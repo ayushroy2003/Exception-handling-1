{
 "cells": [
  {
   "cell_type": "markdown",
   "id": "ca1c52ee-e986-40a2-9048-d32661e4f518",
   "metadata": {},
   "source": [
    "Q1. What is an Exception in python? Write the difference between Exceptions and Syntax errors.\n",
    "\n",
    "ANS -\n",
    "Exception - In Python, an exception is an event or error that occurs during the execution of a program that disrupts the normal flow of the program. When an exception occurs, Python stops executing the current code and jumps to the nearest exception handling code. Exception handling is a mechanism that allows you to deal with these unexpected errors gracefully, preventing the program from crashing and allowing you to take appropriate actions.\n",
    "\n",
    "difference between Exceptions and Syntax errors.\n",
    "\n",
    "syntax errors are coding mistakes that prevent your code from running, while exceptions are runtime errors that can be handled gracefully within your program using exception handling mechanisms."
   ]
  },
  {
   "cell_type": "markdown",
   "id": "8ed631e9-849a-465a-87fa-5e9854d25909",
   "metadata": {},
   "source": [
    "Q2. What happens when an exception is not handled? Explain with an example.\n",
    "\n",
    "Ans - \n",
    "When an exception is not handled in Python:\n",
    "- The program terminates abruptly.\n",
    "- An error message with information about the exception is displayed.\n",
    "- Unpredictable behavior, data loss, and security vulnerabilities can occur.\n",
    "- Proper exception handling is essential to prevent these issues.\n",
    "\n",
    "example"
   ]
  },
  {
   "cell_type": "code",
   "execution_count": 4,
   "id": "afd6c5f4-3498-484f-ad93-c0be0a629fa7",
   "metadata": {},
   "outputs": [],
   "source": [
    "def divide(a , b) :\n",
    "    return a/b\n",
    "    \n",
    "    "
   ]
  },
  {
   "cell_type": "code",
   "execution_count": 5,
   "id": "857363a9-14fd-4833-9854-5e22a24bbb62",
   "metadata": {},
   "outputs": [
    {
     "ename": "ZeroDivisionError",
     "evalue": "division by zero",
     "output_type": "error",
     "traceback": [
      "\u001b[0;31m---------------------------------------------------------------------------\u001b[0m",
      "\u001b[0;31mZeroDivisionError\u001b[0m                         Traceback (most recent call last)",
      "Cell \u001b[0;32mIn[5], line 1\u001b[0m\n\u001b[0;32m----> 1\u001b[0m \u001b[43mdivide\u001b[49m\u001b[43m(\u001b[49m\u001b[38;5;241;43m10\u001b[39;49m\u001b[43m \u001b[49m\u001b[43m,\u001b[49m\u001b[43m \u001b[49m\u001b[38;5;241;43m0\u001b[39;49m\u001b[43m)\u001b[49m\n",
      "Cell \u001b[0;32mIn[4], line 2\u001b[0m, in \u001b[0;36mdivide\u001b[0;34m(a, b)\u001b[0m\n\u001b[1;32m      1\u001b[0m \u001b[38;5;28;01mdef\u001b[39;00m \u001b[38;5;21mdivide\u001b[39m(a , b) :\n\u001b[0;32m----> 2\u001b[0m     \u001b[38;5;28;01mreturn\u001b[39;00m \u001b[43ma\u001b[49m\u001b[38;5;241;43m/\u001b[39;49m\u001b[43mb\u001b[49m\n",
      "\u001b[0;31mZeroDivisionError\u001b[0m: division by zero"
     ]
    }
   ],
   "source": [
    "divide(10 , 0)"
   ]
  },
  {
   "cell_type": "markdown",
   "id": "8ce490c3-599f-4d9f-9e51-8c45f8af0d8b",
   "metadata": {},
   "source": [
    "here we can see that if we have a divide function that attempts to perform division. When we call divide(10, 0), a ZeroDivisionError occurs because we are trying to divide by zero, which is not allowed in Python. If we don't handle this exception, the program will terminate abruptly, and we see an error message zero divioion error"
   ]
  },
  {
   "cell_type": "markdown",
   "id": "4f62c188-a111-4cc1-a395-a7a4c6fa4695",
   "metadata": {},
   "source": [
    "- To avoid such crashes and handle exceptions gracefully, we can use a try and except block to catch and manage the exception:"
   ]
  },
  {
   "cell_type": "code",
   "execution_count": 6,
   "id": "57bac3a9-2199-458f-ac02-cef999dc541e",
   "metadata": {},
   "outputs": [],
   "source": [
    "def divide(a, b):\n",
    "    try:\n",
    "        return a / b\n",
    "    except ZeroDivisionError:\n",
    "        return \"Division by zero is not allowed\"\n"
   ]
  },
  {
   "cell_type": "code",
   "execution_count": 7,
   "id": "1a8447e8-c39c-47e3-9263-eec8378e17e0",
   "metadata": {},
   "outputs": [
    {
     "data": {
      "text/plain": [
       "'Division by zero is not allowed'"
      ]
     },
     "execution_count": 7,
     "metadata": {},
     "output_type": "execute_result"
    }
   ],
   "source": [
    "divide(10 , 0)"
   ]
  },
  {
   "cell_type": "markdown",
   "id": "482654df-f9f5-412e-abc0-8ab646fee307",
   "metadata": {},
   "source": [
    "Q3. Which Python statements are used to catch and handle exceptions? Explain with an example.\n",
    "\n",
    "Ans - \n",
    "we use try and except statement are used to catch and handle exception \n",
    "\n",
    "Example -\n"
   ]
  },
  {
   "cell_type": "code",
   "execution_count": 8,
   "id": "85429b61-7e37-4e69-89f3-db02989ae058",
   "metadata": {},
   "outputs": [
    {
     "name": "stdout",
     "output_type": "stream",
     "text": [
      "divsion by zero is not allowed\n"
     ]
    }
   ],
   "source": [
    "try :\n",
    "    result = 10/0\n",
    "except ZeroDivisionError :\n",
    "    print(\"divsion by zero is not allowed\")"
   ]
  },
  {
   "cell_type": "markdown",
   "id": "4b965a72-bf42-4d45-8fdc-b6684a7b5319",
   "metadata": {},
   "source": [
    "Q4. Explain with an example \n",
    "\n",
    "a. try and else\n",
    "b. finally\n",
    "c. raise\n",
    "\n",
    "ANS -\n",
    "\n",
    "a. try and else \n",
    "\n",
    "The try block is used to enclose code that may raise an exception, the except block is used to catch and handle exceptions, and the else block is used to execute code when no exceptions are raised.\n",
    "\n",
    "example -\n",
    "\n"
   ]
  },
  {
   "cell_type": "code",
   "execution_count": 9,
   "id": "c7ac0256-a844-4fe0-b285-d247ba20f42e",
   "metadata": {},
   "outputs": [
    {
     "name": "stdout",
     "output_type": "stream",
     "text": [
      "division was succesful . Result: 5.0\n"
     ]
    }
   ],
   "source": [
    "try :\n",
    "    result = 10/2\n",
    "except ZeroDivisionError :\n",
    "    print(\"division by zero is not allowed\")\n",
    "else :\n",
    "    print(\"division was succesful . Result:\" , result)"
   ]
  },
  {
   "cell_type": "markdown",
   "id": "e77e7aa8-b4b5-4f12-88cb-ee7923cb7bf7",
   "metadata": {},
   "source": [
    "In this example, the try block performs a division operation that's valid (not dividing by zero). Since no exception is raised, the code in the else block is executed, and it prints the result."
   ]
  },
  {
   "cell_type": "markdown",
   "id": "27d2818a-5645-4654-b980-046bbbc78a81",
   "metadata": {},
   "source": [
    "b. finally \n",
    "\n",
    "The finally block is used to specify code that should be executed regardless of whether an exception is raised or not. It is often used for cleanup operations.\n",
    "\n",
    "example"
   ]
  },
  {
   "cell_type": "code",
   "execution_count": 13,
   "id": "a83822bc-84bc-4099-86e2-543803d4d98c",
   "metadata": {},
   "outputs": [],
   "source": [
    "try :\n",
    "    f = open(\"example.txt\" , \"w\")\n",
    "    f.write(\"this is my example\")\n",
    "    \n",
    "finally :\n",
    "    f.close()"
   ]
  },
  {
   "cell_type": "markdown",
   "id": "2dfb0353-1008-4167-8d84-59a50b4b88af",
   "metadata": {},
   "source": [
    "in 'try' block want to open file and write but we have not closed the file as result the data will not print in example.txt \n",
    "\n",
    "finally block ensures that file is closed as result the file is closed and data will  show in \"example.txt\" \n",
    "\n",
    "The finally block is used to specify code that should be executed regardless of whether an exception is raised or not. It is often used for cleanup operations."
   ]
  },
  {
   "cell_type": "markdown",
   "id": "cfdd7e8a-7797-4956-80f2-007037b952d4",
   "metadata": {},
   "source": [
    "c. raise \n",
    "The raise statement in Python is used to manually raise an exception within your code. This can be a built-in exception or a custom exception that you define. It allows you to explicitly trigger an exceptional condition when necessary.\n",
    "\n",
    "example"
   ]
  },
  {
   "cell_type": "code",
   "execution_count": 1,
   "id": "cf3f0f40-2b06-4c57-bfec-5ea678d82364",
   "metadata": {},
   "outputs": [
    {
     "name": "stdout",
     "output_type": "stream",
     "text": [
      "Caught a custom exception: Input must be a non-negative number.\n"
     ]
    }
   ],
   "source": [
    "class MyCustomError(Exception):\n",
    "    def __init__(self, message):\n",
    "        super().__init__(message)\n",
    "\n",
    "def some_function(x):\n",
    "    if x < 0:\n",
    "        raise MyCustomError(\"Input must be a non-negative number.\")\n",
    "    return x ** 2\n",
    "\n",
    "try:\n",
    "    result = some_function(-5)\n",
    "except MyCustomError as e:\n",
    "    print(f\"Caught a custom exception: {e}\")\n"
   ]
  },
  {
   "cell_type": "markdown",
   "id": "156fa83d-0797-40f2-b618-88f2bcd4b8b5",
   "metadata": {},
   "source": [
    "Using raise with custom exceptions allows you to add specific error-handling logic to your code, making it easier to identify and handle exceptional cases that are relevant to your application."
   ]
  },
  {
   "cell_type": "markdown",
   "id": "72148e56-57eb-47b5-aedd-183f3565e84f",
   "metadata": {},
   "source": [
    "Q5. What are Custom Exceptions in python? Why do we need Custom Exceptions? Explain with an example.\n",
    "\n",
    "ans -\n",
    "Custom exceptions in Python are like creating your own error messages. They make your code easier to understand and manage. Here's why they are useful and how to use them:\n",
    "\n",
    "Why Custom Exceptions are Useful:\n",
    "\n",
    "Clarity: You can give errors meaningful names, so others (and your future self) know exactly what went wrong.\n",
    "\n",
    "Organization: Each part of your program can have its own errors, making it neat and tidy.\n",
    "\n",
    "Better Handling: You can deal with different errors in specific ways, like showing different messages for each.\n",
    "\n",
    "\n",
    "example\n"
   ]
  },
  {
   "cell_type": "code",
   "execution_count": 2,
   "id": "58f0bc6c-3071-42e9-8428-552536395d59",
   "metadata": {},
   "outputs": [
    {
     "name": "stdout",
     "output_type": "stream",
     "text": [
      "Error: The second number must be greater than or equal to 1.\n"
     ]
    }
   ],
   "source": [
    "class ValueTooSmallError(Exception):\n",
    "    pass\n",
    "\n",
    "def divide_numbers(a, b):\n",
    "    if b < 1:\n",
    "        raise ValueTooSmallError(\"The second number must be greater than or equal to 1.\")\n",
    "    return a / b\n",
    "\n",
    "try:\n",
    "    result = divide_numbers(10, 0)\n",
    "except ValueTooSmallError as e:\n",
    "    print(f\"Error: {e}\")\n"
   ]
  },
  {
   "cell_type": "markdown",
   "id": "72a0c833-e782-4323-b266-8dbabbddc6a6",
   "metadata": {},
   "source": [
    "Q6. Create a custom exception class. Use this class to handle an exception\n",
    "\n",
    "ans -"
   ]
  },
  {
   "cell_type": "code",
   "execution_count": null,
   "id": "f26fbb5e-24da-415a-8a35-25c735d87ed4",
   "metadata": {},
   "outputs": [],
   "source": []
  }
 ],
 "metadata": {
  "kernelspec": {
   "display_name": "Python 3 (ipykernel)",
   "language": "python",
   "name": "python3"
  },
  "language_info": {
   "codemirror_mode": {
    "name": "ipython",
    "version": 3
   },
   "file_extension": ".py",
   "mimetype": "text/x-python",
   "name": "python",
   "nbconvert_exporter": "python",
   "pygments_lexer": "ipython3",
   "version": "3.10.8"
  }
 },
 "nbformat": 4,
 "nbformat_minor": 5
}
